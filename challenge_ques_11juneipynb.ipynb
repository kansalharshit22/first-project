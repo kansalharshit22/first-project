{
  "nbformat": 4,
  "nbformat_minor": 0,
  "metadata": {
    "colab": {
      "provenance": [],
      "authorship_tag": "ABX9TyPlyGMa8nJeeQe4uYIRKusi",
      "include_colab_link": true
    },
    "kernelspec": {
      "name": "python3",
      "display_name": "Python 3"
    },
    "language_info": {
      "name": "python"
    }
  },
  "cells": [
    {
      "cell_type": "markdown",
      "metadata": {
        "id": "view-in-github",
        "colab_type": "text"
      },
      "source": [
        "<a href=\"https://colab.research.google.com/github/kansalharshit22/first-project/blob/main/challenge_ques_11juneipynb.ipynb\" target=\"_parent\"><img src=\"https://colab.research.google.com/assets/colab-badge.svg\" alt=\"Open In Colab\"/></a>"
      ]
    },
    {
      "cell_type": "code",
      "execution_count": 1,
      "metadata": {
        "colab": {
          "base_uri": "https://localhost:8080/"
        },
        "id": "ej20St8qKPBS",
        "outputId": "0b75ead6-d4bd-473c-9c3e-a916e41277b1"
      },
      "outputs": [
        {
          "output_type": "stream",
          "name": "stdout",
          "text": [
            "['RAM', 1, 'SHYAM', 2, 'AMAN', 3]\n",
            "[1, 2, 3, 'AMAN', 'RAM', 'SHYAM']\n"
          ]
        }
      ],
      "source": [
        "L=[\"RAM\",1,\"SHYAM\",2,\"AMAN\",3]\n",
        "print(L)\n",
        "L.sort(key=str)\n",
        "print(L)"
      ]
    },
    {
      "cell_type": "code",
      "source": [
        "L=[10,\"RAM\",2,\"SHYAM\",5]\n",
        "L1=[]\n",
        "L2=[]\n",
        "for i in L:\n",
        "\tif type(i) == int:\n",
        "\t\tL1.append(i)\n",
        "\telse:\n",
        "\t\tL2.append(i)\n",
        "L1.sort()\n",
        "L2.sort()\n",
        "L3=L1+L2\n",
        "print (L3)"
      ],
      "metadata": {
        "colab": {
          "base_uri": "https://localhost:8080/"
        },
        "id": "19xxkqNqKkDS",
        "outputId": "dd3e1b5a-b848-4270-8950-59bddc099ed0"
      },
      "execution_count": 2,
      "outputs": [
        {
          "output_type": "stream",
          "name": "stdout",
          "text": [
            "[2, 5, 10, 'RAM', 'SHYAM']\n"
          ]
        }
      ]
    }
  ]
}